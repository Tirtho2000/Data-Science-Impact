{
 "cells": [
  {
   "cell_type": "code",
   "execution_count": 3,
   "id": "829766e5-0699-41f9-9740-4b688a47ce26",
   "metadata": {},
   "outputs": [
    {
     "name": "stdout",
     "output_type": "stream",
     "text": [
      "My name is Tirthankar bagal and my age is 22 and i have completed my Msc Physics\n"
     ]
    }
   ],
   "source": [
    "name=\"Tirthankar bagal\"\n",
    "age=22\n",
    "degree=\"Msc Physics\"\n",
    "print(\"My name is {} and my age is {} and i have completed my {}\".format(name,age,degree))"
   ]
  },
  {
   "cell_type": "code",
   "execution_count": 4,
   "id": "3d90a189-95b0-4d6b-85b5-e28e7151fb05",
   "metadata": {},
   "outputs": [
    {
     "name": "stdin",
     "output_type": "stream",
     "text": [
      "Enter your name Tirthankar Bagal\n",
      "Enter your age 22\n",
      "Enter your degree Msc Physics\n"
     ]
    },
    {
     "name": "stdout",
     "output_type": "stream",
     "text": [
      "My name is Tirthankar Bagal and my age is 22 and i have completed my Msc Physics\n"
     ]
    }
   ],
   "source": [
    "name=input(\"Enter your name\" )\n",
    "age=input(\"Enter your age\" )\n",
    "degree=input(\"Enter your degree\" )\n",
    "print(\"My name is {} and my age is {} and i have completed my {}\".format(name,age,degree))"
   ]
  },
  {
   "cell_type": "code",
   "execution_count": 8,
   "id": "2cb792e9-8047-44f9-a1bc-62c2f4e1ef54",
   "metadata": {},
   "outputs": [
    {
     "name": "stdin",
     "output_type": "stream",
     "text": [
      "Enter your age  18\n"
     ]
    },
    {
     "name": "stdout",
     "output_type": "stream",
     "text": [
      "You are young blood\n"
     ]
    }
   ],
   "source": [
    "age=int(input(\"Enter your age \"))\n",
    "if 45>=age>=18 :\n",
    "    print(\"You are young blood\")"
   ]
  },
  {
   "cell_type": "code",
   "execution_count": 10,
   "id": "4c94878e-1a5e-4180-b73b-6d60827a77e8",
   "metadata": {},
   "outputs": [
    {
     "name": "stdin",
     "output_type": "stream",
     "text": [
      "Enter the poduct price 10000\n"
     ]
    },
    {
     "name": "stdout",
     "output_type": "stream",
     "text": [
      "You will get 20% off\n",
      "Discounted price is  8000.0\n"
     ]
    }
   ],
   "source": [
    "price=int(input(\"Enter the poduct price\"))\n",
    "Dis_price = price - price*20/100\n",
    "Dis_price2 = price - price*30/100\n",
    "if price>=1000:\n",
    "    print(\"You will get 20% off\")\n",
    "    print(\"Discounted price is \",Dis_price)\n",
    "else:\n",
    "    print(\"You will get 30% off\")\n",
    "    print(\"Discounted price is \",Dis_price2)"
   ]
  },
  {
   "cell_type": "code",
   "execution_count": null,
   "id": "50e3b2d3-e709-47e8-a4bf-e27a50ced0a0",
   "metadata": {},
   "outputs": [],
   "source": [
    "## mall - input the product price\n",
    "## product >1000 rs 20% off\n",
    "## print the product price after removing the discount\n",
    "## product <=1000 rs 30% off\n",
    "## print the product price after removing the discount"
   ]
  },
  {
   "cell_type": "code",
   "execution_count": null,
   "id": "682f5828-e1ac-4120-ad7a-ca336d1d83d8",
   "metadata": {},
   "outputs": [],
   "source": [
    "product_price=int(input(\"Enter the price\"))\n",
    "if product_price>1000:\n",
    "    print(\"The price of the product is {}\".format(product_price*0.8))\n",
    "else:\n",
    "    print(\"The price of the product is {}\".format(product_price*0.7))"
   ]
  },
  {
   "cell_type": "code",
   "execution_count": null,
   "id": "d85ff8ba-abc3-473f-b337-26fdba2f4cfa",
   "metadata": {},
   "outputs": [],
   "source": [
    "## mall - input the product price\n",
    "## product >3000 rs 20% off\n",
    "## price is ==4000 you get a trip to Goa\n",
    "## print the product price after removing the discount\n",
    "## product >=2000 rs and <=3000 30% off\n",
    "## print the product price after removing the discount\n",
    "## price ==2999  u will get adiitional gift\n",
    "## product 100 rs and <=2000 40% off\n",
    "## print the product price after removing the discount"
   ]
  },
  {
   "cell_type": "code",
   "execution_count": null,
   "id": "1c12c04d-8cbb-40ee-942d-d764435c97a1",
   "metadata": {},
   "outputs": [],
   "source": [
    "product_price=int(input(\"Enter the price\"))\n",
    "if product_price>3000:\n",
    "    if product_price==4000:\n",
    "        print(\"Congratulations you get a Goa Trip\")\n",
    "    print(f\"The price of the product is {product_price*0.8}\")\n",
    "elif product_price>=2000 and product_price<=3000:\n",
    "    if product_price==2999:\n",
    "        print(\"Congratulations you get an additional gift\")\n",
    "    print(f\"The price of the product is {product_price*0.7}\")\n",
    "elif product_price>=100 and product_price<2000:\n",
    "    print(f\"The price of the product is {product_price*0.6}\")\n",
    "else:\n",
    "    print(\"Lets drink tea\")\n",
    "    print(\"I will also be there\")\n",
    "    "
   ]
  },
  {
   "cell_type": "code",
   "execution_count": 3,
   "id": "2028de9a-4b1c-42fc-ac27-a5d36da9f393",
   "metadata": {},
   "outputs": [
    {
     "name": "stdout",
     "output_type": "stream",
     "text": [
      "25\n",
      "26\n",
      "27\n",
      "28\n",
      "29\n",
      "30\n",
      "31\n",
      "32\n",
      "33\n",
      "34\n",
      "35\n",
      "36\n",
      "37\n",
      "38\n",
      "39\n",
      "40\n",
      "41\n",
      "42\n",
      "43\n",
      "44\n",
      "45\n",
      "46\n",
      "47\n",
      "48\n",
      "49\n",
      "50\n",
      "51\n",
      "52\n",
      "53\n",
      "54\n",
      "55\n",
      "56\n",
      "57\n",
      "58\n",
      "59\n",
      "60\n",
      "Time to retire\n"
     ]
    }
   ],
   "source": [
    "join_age=25\n",
    "while join_age<=60:\n",
    "    print(join_age)\n",
    "    join_age=join_age+1\n",
    "else:\n",
    "    print(\"Time to retire\")"
   ]
  },
  {
   "cell_type": "code",
   "execution_count": null,
   "id": "b4e940c8-d7b3-4821-b234-a8eb7e813200",
   "metadata": {},
   "outputs": [],
   "source": [
    "total_amount=1000\n",
    "while "
   ]
  },
  {
   "cell_type": "code",
   "execution_count": 45,
   "id": "70e0f6c7-cd98-49f6-a473-012e65b2fbbd",
   "metadata": {},
   "outputs": [
    {
     "name": "stdout",
     "output_type": "stream",
     "text": [
      "    * \n",
      "   * * * \n",
      "  * * * * * \n"
     ]
    }
   ],
   "source": [
    "n=3\n",
    "m = (2 * n) - 2\n",
    "for i in range(0,n):\n",
    "    for j in range(0, m):\n",
    "        print(end=\" \")\n",
    "    # decrementing m after each loop\n",
    "    m = m - 1\n",
    "    for j in range(0,2*i+1):\n",
    "        print(\"*\",end=\" \")\n",
    "    print(\"\\r\")\n",
    "    "
   ]
  },
  {
   "cell_type": "code",
   "execution_count": null,
   "id": "8dde8c56-73ac-406f-a32b-d154bb40ccea",
   "metadata": {},
   "outputs": [],
   "source": []
  }
 ],
 "metadata": {
  "kernelspec": {
   "display_name": "Python 3 (ipykernel)",
   "language": "python",
   "name": "python3"
  },
  "language_info": {
   "codemirror_mode": {
    "name": "ipython",
    "version": 3
   },
   "file_extension": ".py",
   "mimetype": "text/x-python",
   "name": "python",
   "nbconvert_exporter": "python",
   "pygments_lexer": "ipython3",
   "version": "3.10.8"
  }
 },
 "nbformat": 4,
 "nbformat_minor": 5
}
